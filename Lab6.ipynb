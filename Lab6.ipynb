{
  "cells": [
    {
      "cell_type": "code",
      "execution_count": 8,
      "metadata": {
        "id": "-LutgCErMms8"
      },
      "outputs": [],
      "source": [
        "import re"
      ]
    },
    {
      "cell_type": "code",
      "execution_count": 9,
      "metadata": {
        "id": "nxd1e320Mms9",
        "outputId": "6e79167f-8738-4b6b-b3a1-b93d766a6be0",
        "colab": {
          "base_uri": "https://localhost:8080/"
        }
      },
      "outputs": [
        {
          "output_type": "stream",
          "name": "stdout",
          "text": [
            "La placa P 123BTJ es válida.\n",
            "La placa O 567MNP es válida.\n",
            "La placa C 987WRT es válida.\n",
            "La placa J 345XYZ no es válida.\n",
            "La placa P 234AYZ no es válida.\n",
            "*************************************\n"
          ]
        }
      ],
      "source": [
        "#1.\tGenere una expresión regular que sea capaz de\n",
        "# detectar las placas de un vehículo particular guatemalteco.\n",
        "expresion_regular = r\"^[POC] \\d{3}[BCDFGHJKLMNPQRSTVWXYZ]{3}$\"\n",
        "\n",
        "placas = [\"P 123BTJ\", \"O 567MNP\", \"C 987WRT\", \"J 345XYZ\", \"P 234AYZ\"]\n",
        "for placa in placas:\n",
        "    if re.match(expresion_regular, placa):\n",
        "        print(f\"La placa {placa} es válida.\")\n",
        "    else:\n",
        "        print(f\"La placa {placa} no es válida.\")\n",
        "\n",
        "print(\"*************************************\")"
      ]
    },
    {
      "cell_type": "code",
      "execution_count": 10,
      "metadata": {
        "id": "IBZQPsl5Mms9",
        "outputId": "a305deb4-acf0-4d52-85db-128b16f8ffca",
        "colab": {
          "base_uri": "https://localhost:8080/"
        }
      },
      "outputs": [
        {
          "output_type": "stream",
          "name": "stdout",
          "text": [
            "El archivo Ejemplo1.pdf es un archivo .pdf o .jpg válido.\n",
            "El archivo prueba2.PDF es un archivo .pdf o .jpg válido.\n",
            "El archivo respuestas_del_examen.jpg es un archivo .pdf o .jpg válido.\n",
            "El archivo amor.JPG es un archivo .pdf o .jpg válido.\n",
            "El archivo archivo.txt no es un archivo .pdf o .jpg válido.\n",
            "*************************************\n"
          ]
        }
      ],
      "source": [
        "# 2.\tGenere una expresión regular que valide si un archivo es de tipo .pdf o jpg.\n",
        "#a.\tEjemplo1.pdf, prueba2.PDF, respuestas_del_examen.jpg, amor.JPG\n",
        "\n",
        "expresion_regular = r'^.*\\.(pdf|jpg|PDF|JPG)$'\n",
        "nombres_archivo = [\"Ejemplo1.pdf\", \"prueba2.PDF\", \"respuestas_del_examen.jpg\", \"amor.JPG\", \"archivo.txt\"]\n",
        "\n",
        "for nombre in nombres_archivo:\n",
        "    if re.match(expresion_regular, nombre):\n",
        "        print(f\"El archivo {nombre} es un archivo .pdf o .jpg válido.\")\n",
        "    else:\n",
        "        print(f\"El archivo {nombre} no es un archivo .pdf o .jpg válido.\")\n",
        "\n",
        "print(\"*************************************\")"
      ]
    },
    {
      "cell_type": "code",
      "execution_count": 11,
      "metadata": {
        "id": "6d8hKzGPMms9",
        "outputId": "4bf92d3f-93e1-45a7-8b52-5bb94fe4d492",
        "colab": {
          "base_uri": "https://localhost:8080/"
        }
      },
      "outputs": [
        {
          "output_type": "stream",
          "name": "stdout",
          "text": [
            "La contraseña 'Abc@1234' es válida.\n",
            "La contraseña 'abc12345' no es válida.\n",
            "La contraseña 'AbCdEfG#' es válida.\n",
            "La contraseña '!Pa$$w0rd' es válida.\n"
          ]
        }
      ],
      "source": [
        "#3.\tGenere una expresión regular para validar contraseñas de correo.\n",
        "# Una contraseña de correo debe contener por lo menos 8 caracteres,\n",
        "# una letra mayúscula y un carácter especial.\n",
        "def validar_contrasena(correo):\n",
        "    expresion_regular = r'^(?=.*[A-Z])(?=.*[!@#$%^&*()_+|~\\-=`{}[\\]:\";\\'<>?,./])\\S{8,}$'\n",
        "    if re.match(expresion_regular, correo):\n",
        "        return True\n",
        "    else:\n",
        "        return False\n",
        "\n",
        "contrasenas = [\"Abc@1234\", \"abc12345\", \"AbCdEfG#\", \"!Pa$$w0rd\"]\n",
        "for contrasena in contrasenas:\n",
        "    if validar_contrasena(contrasena):\n",
        "        print(f\"La contraseña '{contrasena}' es válida.\")\n",
        "    else:\n",
        "        print(f\"La contraseña '{contrasena}' no es válida.\")\n"
      ]
    },
    {
      "cell_type": "code",
      "execution_count": 12,
      "metadata": {
        "id": "3RQejt3hMms-",
        "outputId": "65ee1887-1186-46c3-cd05-10eec0615fbe",
        "colab": {
          "base_uri": "https://localhost:8080/"
        }
      },
      "outputs": [
        {
          "output_type": "stream",
          "name": "stdout",
          "text": [
            "*************************************\n",
            "El número de carné '19002324' no es válido.\n",
            "El número de carné '30001200' no es válido.\n",
            "El número de carné '21000050' no es válido.\n",
            "El número de carné '22008970' es válido.\n",
            "El número de carné '21001000' no es válido.\n",
            "El número de carné '18001234' es válido.\n",
            "El número de carné '23008090' es válido.\n"
          ]
        }
      ],
      "source": [
        "print(\"*************************************\")\n",
        "#4.\tCree una expresión regular para validar un numero de carnet de la Universidad Galileo,\n",
        "# por ejemplo 19002324 donde los primeros dos dígitos representan el año en el que el alumno se inscribió\n",
        "#  los cuales pueden variar desde el 01 (año 2001) hasta el 30 (año 2030).\n",
        "#  Los siguientes dos dígitos son cero (00) los cuales van por default y\n",
        "#  los últimos cuatro dígitos son un número que va desde el 1110 hasta el 8970.\n",
        "# Para dar su respuesta utilice la notación de expresiones regulares.\n",
        "def validar_numero_carnet(carnet):\n",
        "    expresion_regular = r'^(0[1-9]|1\\d|2\\d|30)00(1[1-9][1-9][0-9]|8[0-8][0-9][0-9]|8970)$'\n",
        "    if re.match(expresion_regular, carnet):\n",
        "        return True\n",
        "    else:\n",
        "        return False\n",
        "\n",
        "carnets = [\"19002324\", \"30001200\", \"21000050\", \"22008970\", \"21001000\", \"18001234\", \"23008090\"]\n",
        "\n",
        "for carnet in carnets:\n",
        "    if validar_numero_carnet(carnet):\n",
        "        print(f\"El número de carné '{carnet}' es válido.\")\n",
        "    else:\n",
        "        print(f\"El número de carné '{carnet}' no es válido.\")\n",
        "\n"
      ]
    },
    {
      "cell_type": "code",
      "execution_count": 13,
      "metadata": {
        "id": "Kv2RR8YIMms-",
        "outputId": "4157e3cc-a70e-48d1-c67d-105ecec78121",
        "colab": {
          "base_uri": "https://localhost:8080/"
        }
      },
      "outputs": [
        {
          "output_type": "stream",
          "name": "stdout",
          "text": [
            "*************************************\n",
            "El número de telefono '+50254821151' es valido.\n",
            "El número de telefono '4210-7640' es valido.\n",
            "El número de telefono '52018150' es valido.\n",
            "El número de telefono '2434 6854' es valido.\n",
            "El número de telefono '11234569' no es valido.\n",
            "El número de telefono '50211234578' es valido.\n"
          ]
        }
      ],
      "source": [
        "print(\"*************************************\")\n",
        "#6.\tCree una expresión regular para obtener los números telefónicos de Guatemala.\n",
        "#  Estos pueden contener al inicio +502 o 502, pueden estar separados por un espacio en blanco o un guión o juntos.\n",
        "#  Notar que los números telefónicos pueden empezar únicamente con 4,5,6 o 2.\n",
        "#a.\t+50254821151, 4210-7640, 52018150, 2434 6854, 11234569, 50211234578\n",
        "\n",
        "def validar_numero_telefono(telefono):\n",
        "\n",
        "    expresion_regular = r'(\\+502|502)?[2-6]([- ]?\\d){7}'\n",
        "\n",
        "    if re.match(expresion_regular, telefono):\n",
        "        return True\n",
        "    else:\n",
        "        return False\n",
        "\n",
        "telefonos = [\"+50254821151\", \"4210-7640\", \"52018150\", \"2434 6854\", \"11234569\", \"50211234578\"]\n",
        "\n",
        "for telefono in telefonos:\n",
        "    if validar_numero_telefono(telefono):\n",
        "        print(f\"El número de telefono '{telefono}' es valido.\")\n",
        "    else:\n",
        "         print(f\"El número de telefono '{telefono}' no es valido.\")\n"
      ]
    },
    {
      "cell_type": "code",
      "execution_count": 14,
      "metadata": {
        "id": "5DDZ9pFgMms-",
        "outputId": "a0239131-cd26-497d-a4a2-b5bfc186eba7",
        "colab": {
          "base_uri": "https://localhost:8080/"
        }
      },
      "outputs": [
        {
          "output_type": "stream",
          "name": "stdout",
          "text": [
            "*************************************\n",
            "El correo 'steph@ufm.edu' es una dirección de la UFM válida.\n",
            "El correo 'oscarpiastri@ufm.edu' es una dirección de la UFM válida.\n",
            "El correo 'carlossainz@gmail.com' no es una dirección de la UFM válida.\n",
            "El correo 'landonorris@hotmail.edu' no es una dirección de la UFM válida.\n",
            "El correo 'lewishamilton@outlook.edu' no es una dirección de la UFM válida.\n",
            "El correo 'danielricciardo@uvg.edu' no es una dirección de la UFM válida.\n"
          ]
        }
      ],
      "source": [
        "print(\"*************************************\")\n",
        "# 7.\tGenere una expresión regular que sea capaz de obtener correos de la UFM.\n",
        "def validar_correo_ufm(correo):\n",
        "    expresion_regular = r'^[a-zA-Z0-9._%+-]+@ufm.edu$'\n",
        "\n",
        "    if re.match(expresion_regular, correo):\n",
        "        return True\n",
        "    else:\n",
        "        return False\n",
        "\n",
        "correos_ufm = [\"steph@ufm.edu\", \"oscarpiastri@ufm.edu\", \"carlossainz@gmail.com\", \"landonorris@hotmail.edu\",\"lewishamilton@outlook.edu\",\"danielricciardo@uvg.edu\"]\n",
        "\n",
        "for correo in correos_ufm:\n",
        "    if validar_correo_ufm(correo):\n",
        "        print(f\"El correo '{correo}' es una dirección de la UFM válida.\")\n",
        "    else:\n",
        "        print(f\"El correo '{correo}' no es una dirección de la UFM válida.\")"
      ]
    }
  ],
  "metadata": {
    "language_info": {
      "name": "python"
    },
    "colab": {
      "provenance": []
    },
    "kernelspec": {
      "name": "python3",
      "display_name": "Python 3"
    }
  },
  "nbformat": 4,
  "nbformat_minor": 0
}