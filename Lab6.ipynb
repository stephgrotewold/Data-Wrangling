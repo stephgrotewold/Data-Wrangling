{
 "cells": [
  {
   "cell_type": "code",
   "execution_count": null,
   "metadata": {},
   "outputs": [],
   "source": [
    "import re"
   ]
  },
  {
   "cell_type": "code",
   "execution_count": null,
   "metadata": {},
   "outputs": [],
   "source": [
    "#1.\tGenere una expresión regular que sea capaz de \n",
    "# detectar las placas de un vehículo particular guatemalteco.\n",
    "expresion_regular = r\"^[POC] \\d{3}[BCDFGHJKLMNPQRSTVWXYZ]{3}$\"\n",
    "\n",
    "placas = [\"P 123BTJ\", \"O 567MNP\", \"C 987WRT\", \"J 345XYZ\", \"P 234AYZ\"]\n",
    "for placa in placas:\n",
    "    if re.match(expresion_regular, placa):\n",
    "        print(f\"La placa {placa} es válida.\")\n",
    "    else:\n",
    "        print(f\"La placa {placa} no es válida.\")\n",
    "\n",
    "print(\"*************************************\")"
   ]
  },
  {
   "cell_type": "code",
   "execution_count": null,
   "metadata": {},
   "outputs": [],
   "source": [
    "# 2.\tGenere una expresión regular que valide si un archivo es de tipo .pdf o jpg.\n",
    "#a.\tEjemplo1.pdf, prueba2.PDF, respuestas_del_examen.jpg, amor.JPG\n",
    "\n",
    "expresion_regular = r'^.*\\.(pdf|jpg|PDF|JPG)$'\n",
    "nombres_archivo = [\"Ejemplo1.pdf\", \"prueba2.PDF\", \"respuestas_del_examen.jpg\", \"amor.JPG\", \"archivo.txt\"]\n",
    "\n",
    "for nombre in nombres_archivo:\n",
    "    if re.match(expresion_regular, nombre):\n",
    "        print(f\"El archivo {nombre} es un archivo .pdf o .jpg válido.\")\n",
    "    else:\n",
    "        print(f\"El archivo {nombre} no es un archivo .pdf o .jpg válido.\")\n",
    "\n",
    "print(\"*************************************\")"
   ]
  },
  {
   "cell_type": "code",
   "execution_count": null,
   "metadata": {},
   "outputs": [],
   "source": [
    "#3.\tGenere una expresión regular para validar contraseñas de correo. \n",
    "# Una contraseña de correo debe contener por lo menos 8 caracteres, \n",
    "# una letra mayúscula y un carácter especial.\n",
    "def validar_contrasena(correo):\n",
    "    expresion_regular = r'^(?=.*[A-Z])(?=.*[!@#$%^&*()_+|~\\-=`{}[\\]:\";\\'<>?,./])\\S{8,}$'\n",
    "    if re.match(expresion_regular, correo):\n",
    "        return True\n",
    "    else:\n",
    "        return False\n",
    "\n",
    "contrasenas = [\"Abc@1234\", \"abc12345\", \"AbCdEfG#\", \"!Pa$$w0rd\"]\n",
    "for contrasena in contrasenas:\n",
    "    if validar_contrasena(contrasena):\n",
    "        print(f\"La contraseña '{contrasena}' es válida.\")\n",
    "    else:\n",
    "        print(f\"La contraseña '{contrasena}' no es válida.\")\n"
   ]
  },
  {
   "cell_type": "code",
   "execution_count": null,
   "metadata": {},
   "outputs": [],
   "source": [
    "print(\"*************************************\")\n",
    "#4.\tCree una expresión regular para validar un numero de carnet de la Universidad Galileo,\n",
    "# por ejemplo 19002324 donde los primeros dos dígitos representan el año en el que el alumno se inscribió\n",
    "#  los cuales pueden variar desde el 01 (año 2001) hasta el 30 (año 2030).\n",
    "#  Los siguientes dos dígitos son cero (00) los cuales van por default y\n",
    "#  los últimos cuatro dígitos son un número que va desde el 1110 hasta el 8970. \n",
    "# Para dar su respuesta utilice la notación de expresiones regulares.\n",
    "def validar_numero_carnet(carnet):\n",
    "    expresion_regular = r'^(0[1-9]|1\\d|2\\d|30)00(1[1-9][1-9][0-9]|8[0-8][0-9][0-9]|8970)$'\n",
    "    if re.match(expresion_regular, carnet):\n",
    "        return True\n",
    "    else:\n",
    "        return False\n",
    "\n",
    "carnets = [\"19002324\", \"30001200\", \"21000050\", \"22008970\", \"21001000\", \"18001234\", \"23008090\"]\n",
    "\n",
    "for carnet in carnets:\n",
    "    if validar_numero_carnet(carnet):\n",
    "        print(f\"El número de carné '{carnet}' es válido.\")\n",
    "    else:\n",
    "        print(f\"El número de carné '{carnet}' no es válido.\")\n",
    "\n"
   ]
  },
  {
   "cell_type": "code",
   "execution_count": null,
   "metadata": {},
   "outputs": [],
   "source": [
    "print(\"*************************************\")\n",
    "#6.\tCree una expresión regular para obtener los números telefónicos de Guatemala.\n",
    "#  Estos pueden contener al inicio +502 o 502, pueden estar separados por un espacio en blanco o un guión o juntos.\n",
    "#  Notar que los números telefónicos pueden empezar únicamente con 4,5,6 o 2.\n",
    "#a.\t+50254821151, 4210-7640, 52018150, 2434 6854, 11234569, 50211234578\n",
    "\n",
    "def validar_numero_telefono(telefono):\n",
    "\n",
    "    expresion_regular = r'(\\+502|502)?[2-6]([- ]?\\d){7}'\n",
    "\n",
    "    if re.match(expresion_regular, telefono):\n",
    "        return True\n",
    "    else:\n",
    "        return False\n",
    "\n",
    "telefonos = [\"+50254821151\", \"4210-7640\", \"52018150\", \"2434 6854\", \"11234569\", \"50211234578\"]\n",
    "\n",
    "for telefono in telefonos:\n",
    "    if validar_numero_telefono(telefono):\n",
    "        print(f\"El número de telefono '{telefono}' es valido.\")\n",
    "    else:\n",
    "         print(f\"El número de telefono '{telefono}' no es valido.\")\n"
   ]
  },
  {
   "cell_type": "code",
   "execution_count": null,
   "metadata": {},
   "outputs": [],
   "source": [
    "print(\"*************************************\")\n",
    "# 7.\tGenere una expresión regular que sea capaz de obtener correos de la UFM.\n",
    "def validar_correo_ufm(correo):\n",
    "    expresion_regular = r'^[a-zA-Z0-9._%+-]+@ufm.edu$'\n",
    "\n",
    "    if re.match(expresion_regular, correo):\n",
    "        return True\n",
    "    else:\n",
    "        return False\n",
    "\n",
    "correos_ufm = [\"steph@ufm.edu\", \"oscarpiastri@ufm.edu\", \"carlossainz@gmail.com\", \"landonorris@hotmail.edu\",\"lewishamilton@outlook.edu\",\"danielricciardo@uvg.edu\"]\n",
    "\n",
    "for correo in correos_ufm:\n",
    "    if validar_correo_ufm(correo):\n",
    "        print(f\"El correo '{correo}' es una dirección de la UFM válida.\")\n",
    "    else:\n",
    "        print(f\"El correo '{correo}' no es una dirección de la UFM válida.\")"
   ]
  }
 ],
 "metadata": {
  "language_info": {
   "name": "python"
  }
 },
 "nbformat": 4,
 "nbformat_minor": 2
}
